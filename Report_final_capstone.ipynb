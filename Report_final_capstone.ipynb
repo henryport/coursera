{
 "cells": [
  {
   "cell_type": "markdown",
   "metadata": {},
   "source": [
    "<h2>The Setting</h2>\n",
    "\n",
    "We represent a large western video game company and want it to help setting foot in the Japanese video game market. The company is well known in the west but unfortunately Japan has never heard of it. In order to change this and to make our company well known in Japan our company wants to invest into advertising by placing posters in video game stores in Tokyp. For the sake of saving money the company hired me find the area in Tokyo with the highest video game store density. To do this we segment Japan in three clusters. On the way we find the most common venues that come up when searching the term \"video games\". Since cafes, restaurant and some \"waiting areas\" can have arcade machines as well, which counts as \"video games\"\n",
    "\n",
    "<h2>Data</h2>\n",
    "\n",
    "The data used to solve this tasks consists of the locations of “video game shops/stores” found via foursquare. We take the Zip codes from here \n",
    "http://japanzipcodes.blogspot.com/search/label/Tokyo%20ZIP%20codes\n",
    "\n",
    "<h2>Methodology</h2>\n",
    "\n",
    "In order to find the areas with the highest density we cluster the video game store data and select the cluster with most shops in it. \n",
    "\n",
    "We will mainly work with BeautifulSoup, numpy, pandas, folium and kmeans. To find the the coordinates we use geocoder and geolocater.\n",
    "\n",
    "<h2>Results</h2>\n",
    "\n",
    "We segmented Tokyp in three clusters. Unfortunately, two only contain one venue. But this helps our company to set up its plan for advertisement."
   ]
  },
  {
   "cell_type": "code",
   "execution_count": null,
   "metadata": {},
   "outputs": [],
   "source": []
  }
 ],
 "metadata": {
  "kernelspec": {
   "display_name": "Python 3",
   "language": "python",
   "name": "python3"
  },
  "language_info": {
   "codemirror_mode": {
    "name": "ipython",
    "version": 3
   },
   "file_extension": ".py",
   "mimetype": "text/x-python",
   "name": "python",
   "nbconvert_exporter": "python",
   "pygments_lexer": "ipython3",
   "version": "3.8.6"
  }
 },
 "nbformat": 4,
 "nbformat_minor": 4
}

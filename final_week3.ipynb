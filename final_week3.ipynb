{
 "cells": [
  {
   "cell_type": "code",
   "execution_count": 79,
   "metadata": {
    "scrolled": false
   },
   "outputs": [],
   "source": [
    "import requests\n",
    "#from bs4 import BeautifulSoup\n",
    "import numpy as np\n",
    "import pandas as pd # library for data analsysis\n",
    "\n",
    "#to fix the certificate issue\n",
    "import ssl\n",
    "ssl._create_default_https_context = ssl._create_unverified_context\n",
    "\n",
    "url = 'https://en.wikipedia.org/wiki/List_of_postal_codes_of_Canada:_M'\n",
    "\n",
    "canada = pd.read_html(url)\n",
    "\n",
    "canada_df = canada[0]\n",
    "\n",
    "#Only process the cells that have an assigned borough. Ignore cells with a borough that is Not assigned.\n",
    "canada_df = canada_df.drop(canada_df[canada_df['Borough'] == 'Not assigned'].index)\n",
    "\n",
    "#More than one neighborhood can exist in one postal code area. For example, in the table on the Wikipedia page, \n",
    "#you will notice that M5A is listed twice and has two neighborhoods: Harbourfront and Regent Park. \n",
    "#These two rows will be combined into one row with the neighborhoods separated with a comma as shown in row 11 \n",
    "#in the above table.\n",
    "canada_df['Postal Code'] = canada_df['Postal Code'].astype(str)\n",
    "canada_df = canada_df.groupby(level = 0, sort=False).agg( ','.join)\n",
    "\n",
    "#adjust row numbers\n",
    "canada_df.index = range(len(canada_df))\n",
    "\n",
    "#If a cell has a borough but a Not assigned neighborhood, then the neighborhood will be the same as the borough.\n",
    "for i in range(len(canada_df)):\n",
    " if (canada_df.iloc[[i]]['Neighbourhood'] == 'Not assigned').bool():\n",
    "    canada_df.iloc[[i]]['Neighbourhood'] = canada_df.iloc[[i]]['Borough']                                                               "
   ]
  },
  {
   "cell_type": "code",
   "execution_count": 80,
   "metadata": {},
   "outputs": [
    {
     "data": {
      "text/plain": [
       "(103, 3)"
      ]
     },
     "execution_count": 80,
     "metadata": {},
     "output_type": "execute_result"
    }
   ],
   "source": [
    "#In the last cell of your notebook, use the .shape method to print the number of rows of your dataframe.\n",
    "canada_df.shape  "
   ]
  },
  {
   "cell_type": "code",
   "execution_count": null,
   "metadata": {},
   "outputs": [],
   "source": []
  }
 ],
 "metadata": {
  "kernelspec": {
   "display_name": "Python 3",
   "language": "python",
   "name": "python3"
  },
  "language_info": {
   "codemirror_mode": {
    "name": "ipython",
    "version": 3
   },
   "file_extension": ".py",
   "mimetype": "text/x-python",
   "name": "python",
   "nbconvert_exporter": "python",
   "pygments_lexer": "ipython3",
   "version": "3.8.6"
  }
 },
 "nbformat": 4,
 "nbformat_minor": 4
}
